{
 "cells": [
  {
   "cell_type": "code",
   "execution_count": 1,
   "metadata": {
    "scrolled": false
   },
   "outputs": [],
   "source": [
    "%matplotlib notebook\n",
    "import uproot as ur\n",
    "import matplotlib.pyplot as plt\n",
    "import k3d\n",
    "import numpy as np\n",
    "import awkward as ak\n"
   ]
  },
  {
   "cell_type": "markdown",
   "metadata": {},
   "source": [
    "## Get file and TTree, print branches, convert to array"
   ]
  },
  {
   "cell_type": "code",
   "execution_count": 2,
   "metadata": {
    "scrolled": true
   },
   "outputs": [],
   "source": [
    "#file = ur.open('sim_highq2.root')\n",
    "#file = ur.open('klong_10GeV_45to135deg_1M.0001.root')\n",
    "#file = ur.open('test_crossDivNrgCrab_35mRad_5x41_v1.0100.root')\n",
    "file = ur.open('rec_mine.root')\n",
    "tree = file['events']\n",
    "#print(tree.keys())\n",
    "ak_arrays = tree.arrays()"
   ]
  },
  {
   "cell_type": "code",
   "execution_count": 5,
   "metadata": {
    "scrolled": false
   },
   "outputs": [],
   "source": [
    "def get_vector(varname='HcalBarrelHitsReco',energy='energy'):\n",
    "    E = np.array(ak.to_list(ak_arrays[\"%s.%s\"%(varname,energy)]), dtype=\"O\")\n",
    "    x = np.array(ak.to_list(ak_arrays[\"%s.position.x\"%varname]), dtype=\"O\")\n",
    "    y = np.array(ak.to_list(ak_arrays[\"%s.position.y\"%varname]), dtype=\"O\")\n",
    "    z = np.array(ak.to_list(ak_arrays[\"%s.position.z\"%varname]), dtype=\"O\")\n",
    "\n",
    "\n",
    "    #E = E/1000.0\n",
    "    return E,x, y, z"
   ]
  },
  {
   "cell_type": "code",
   "execution_count": 6,
   "metadata": {
    "scrolled": false
   },
   "outputs": [],
   "source": [
    "E = {}\n",
    "x = {}\n",
    "y = {}\n",
    "z  = {}\n",
    "theta={}\n",
    "phi = {}"
   ]
  },
  {
   "cell_type": "markdown",
   "metadata": {},
   "source": [
    "## Get data"
   ]
  },
  {
   "cell_type": "markdown",
   "metadata": {},
   "source": [
    "# get hits"
   ]
  },
  {
   "cell_type": "code",
   "execution_count": 7,
   "metadata": {
    "scrolled": false
   },
   "outputs": [
    {
     "ename": "ValueError",
     "evalue": "key \"HcalBarrelHitsReco.polar.theta\" does not exist (not in record)\n\n(https://github.com/scikit-hep/awkward-1.0/blob/1.2.3/src/libawkward/util.cpp#L491)",
     "output_type": "error",
     "traceback": [
      "\u001b[0;31m---------------------------------------------------------------------------\u001b[0m",
      "\u001b[0;31mValueError\u001b[0m                                Traceback (most recent call last)",
      "\u001b[0;32m<ipython-input-7-d4b9a799634b>\u001b[0m in \u001b[0;36m<module>\u001b[0;34m\u001b[0m\n\u001b[1;32m      1\u001b[0m \u001b[0;32mfor\u001b[0m \u001b[0mi\u001b[0m \u001b[0;32min\u001b[0m \u001b[0;34m[\u001b[0m\u001b[0;34m'HcalBarrel'\u001b[0m\u001b[0;34m]\u001b[0m\u001b[0;34m:\u001b[0m\u001b[0;31m#,'TrackerBarrel','VertexBarrel']:\u001b[0m\u001b[0;34m\u001b[0m\u001b[0;34m\u001b[0m\u001b[0m\n\u001b[0;32m----> 2\u001b[0;31m     \u001b[0mE\u001b[0m\u001b[0;34m[\u001b[0m\u001b[0mi\u001b[0m\u001b[0;34m]\u001b[0m\u001b[0;34m,\u001b[0m \u001b[0mx\u001b[0m\u001b[0;34m[\u001b[0m\u001b[0mi\u001b[0m\u001b[0;34m]\u001b[0m\u001b[0;34m,\u001b[0m \u001b[0my\u001b[0m\u001b[0;34m[\u001b[0m\u001b[0mi\u001b[0m\u001b[0;34m]\u001b[0m\u001b[0;34m,\u001b[0m\u001b[0mz\u001b[0m\u001b[0;34m[\u001b[0m\u001b[0mi\u001b[0m\u001b[0;34m]\u001b[0m \u001b[0;34m=\u001b[0m \u001b[0mget_vector\u001b[0m\u001b[0;34m(\u001b[0m\u001b[0;34m\"%sHitsReco\"\u001b[0m\u001b[0;34m%\u001b[0m\u001b[0mi\u001b[0m\u001b[0;34m)\u001b[0m\u001b[0;34m\u001b[0m\u001b[0;34m\u001b[0m\u001b[0m\n\u001b[0m\u001b[1;32m      3\u001b[0m \u001b[0;32mfor\u001b[0m \u001b[0mi\u001b[0m \u001b[0;32min\u001b[0m \u001b[0;34m[\u001b[0m\u001b[0;34m'EcalBarrel'\u001b[0m\u001b[0;34m]\u001b[0m\u001b[0;34m:\u001b[0m\u001b[0;31m#,'TrackerBarrel','VertexBarrel']:\u001b[0m\u001b[0;34m\u001b[0m\u001b[0;34m\u001b[0m\u001b[0m\n\u001b[1;32m      4\u001b[0m     \u001b[0mE\u001b[0m\u001b[0;34m[\u001b[0m\u001b[0mi\u001b[0m\u001b[0;34m]\u001b[0m\u001b[0;34m,\u001b[0m \u001b[0mx\u001b[0m\u001b[0;34m[\u001b[0m\u001b[0mi\u001b[0m\u001b[0;34m]\u001b[0m\u001b[0;34m,\u001b[0m \u001b[0my\u001b[0m\u001b[0;34m[\u001b[0m\u001b[0mi\u001b[0m\u001b[0;34m]\u001b[0m\u001b[0;34m,\u001b[0m\u001b[0mz\u001b[0m\u001b[0;34m[\u001b[0m\u001b[0mi\u001b[0m\u001b[0;34m]\u001b[0m \u001b[0;34m=\u001b[0m \u001b[0mget_vector\u001b[0m\u001b[0;34m(\u001b[0m\u001b[0;34m\"%sHitsReco\"\u001b[0m\u001b[0;34m%\u001b[0m\u001b[0mi\u001b[0m\u001b[0;34m,\u001b[0m\u001b[0menergy\u001b[0m\u001b[0;34m=\u001b[0m\u001b[0;34m'edep'\u001b[0m\u001b[0;34m)\u001b[0m\u001b[0;34m\u001b[0m\u001b[0;34m\u001b[0m\u001b[0m\n\u001b[1;32m      5\u001b[0m \u001b[0;32mfor\u001b[0m \u001b[0mi\u001b[0m \u001b[0;32min\u001b[0m \u001b[0;34m[\u001b[0m\u001b[0;34m'HcalHadronEndcap'\u001b[0m\u001b[0;34m,\u001b[0m\u001b[0;34m'EcalEndcap'\u001b[0m\u001b[0;34m]\u001b[0m\u001b[0;34m:\u001b[0m\u001b[0;31m#,'TrackerEndcap','VertexEndcap']:\u001b[0m\u001b[0;34m\u001b[0m\u001b[0;34m\u001b[0m\u001b[0m\n",
      "\u001b[0;32m<ipython-input-5-a707f3986f8c>\u001b[0m in \u001b[0;36mget_vector\u001b[0;34m(varname, energy)\u001b[0m\n\u001b[1;32m      4\u001b[0m     \u001b[0my\u001b[0m \u001b[0;34m=\u001b[0m \u001b[0mnp\u001b[0m\u001b[0;34m.\u001b[0m\u001b[0marray\u001b[0m\u001b[0;34m(\u001b[0m\u001b[0mak\u001b[0m\u001b[0;34m.\u001b[0m\u001b[0mto_list\u001b[0m\u001b[0;34m(\u001b[0m\u001b[0mak_arrays\u001b[0m\u001b[0;34m[\u001b[0m\u001b[0;34m\"%s.position.y\"\u001b[0m\u001b[0;34m%\u001b[0m\u001b[0mvarname\u001b[0m\u001b[0;34m]\u001b[0m\u001b[0;34m)\u001b[0m\u001b[0;34m,\u001b[0m \u001b[0mdtype\u001b[0m\u001b[0;34m=\u001b[0m\u001b[0;34m\"O\"\u001b[0m\u001b[0;34m)\u001b[0m\u001b[0;34m\u001b[0m\u001b[0;34m\u001b[0m\u001b[0m\n\u001b[1;32m      5\u001b[0m     \u001b[0mz\u001b[0m \u001b[0;34m=\u001b[0m \u001b[0mnp\u001b[0m\u001b[0;34m.\u001b[0m\u001b[0marray\u001b[0m\u001b[0;34m(\u001b[0m\u001b[0mak\u001b[0m\u001b[0;34m.\u001b[0m\u001b[0mto_list\u001b[0m\u001b[0;34m(\u001b[0m\u001b[0mak_arrays\u001b[0m\u001b[0;34m[\u001b[0m\u001b[0;34m\"%s.position.z\"\u001b[0m\u001b[0;34m%\u001b[0m\u001b[0mvarname\u001b[0m\u001b[0;34m]\u001b[0m\u001b[0;34m)\u001b[0m\u001b[0;34m,\u001b[0m \u001b[0mdtype\u001b[0m\u001b[0;34m=\u001b[0m\u001b[0;34m\"O\"\u001b[0m\u001b[0;34m)\u001b[0m\u001b[0;34m\u001b[0m\u001b[0;34m\u001b[0m\u001b[0m\n\u001b[0;32m----> 6\u001b[0;31m     \u001b[0mtheta\u001b[0m \u001b[0;34m=\u001b[0m \u001b[0mnp\u001b[0m\u001b[0;34m.\u001b[0m\u001b[0marray\u001b[0m\u001b[0;34m(\u001b[0m\u001b[0mak\u001b[0m\u001b[0;34m.\u001b[0m\u001b[0mto_list\u001b[0m\u001b[0;34m(\u001b[0m\u001b[0mak_arrays\u001b[0m\u001b[0;34m[\u001b[0m\u001b[0;34m\"%s.polar.theta\"\u001b[0m\u001b[0;34m%\u001b[0m\u001b[0mvarname\u001b[0m\u001b[0;34m]\u001b[0m\u001b[0;34m)\u001b[0m\u001b[0;34m,\u001b[0m \u001b[0mdtype\u001b[0m\u001b[0;34m=\u001b[0m\u001b[0;34m\"O\"\u001b[0m\u001b[0;34m)\u001b[0m\u001b[0;34m\u001b[0m\u001b[0;34m\u001b[0m\u001b[0m\n\u001b[0m\u001b[1;32m      7\u001b[0m     \u001b[0mphi\u001b[0m \u001b[0;34m=\u001b[0m \u001b[0mnp\u001b[0m\u001b[0;34m.\u001b[0m\u001b[0marray\u001b[0m\u001b[0;34m(\u001b[0m\u001b[0mak\u001b[0m\u001b[0;34m.\u001b[0m\u001b[0mto_list\u001b[0m\u001b[0;34m(\u001b[0m\u001b[0mak_arrays\u001b[0m\u001b[0;34m[\u001b[0m\u001b[0;34m\"%s.polar.phi\"\u001b[0m\u001b[0;34m%\u001b[0m\u001b[0mvarname\u001b[0m\u001b[0;34m]\u001b[0m\u001b[0;34m)\u001b[0m\u001b[0;34m,\u001b[0m \u001b[0mdtype\u001b[0m\u001b[0;34m=\u001b[0m\u001b[0;34m\"O\"\u001b[0m\u001b[0;34m)\u001b[0m\u001b[0;34m\u001b[0m\u001b[0;34m\u001b[0m\u001b[0m\n\u001b[1;32m      8\u001b[0m \u001b[0;34m\u001b[0m\u001b[0m\n",
      "\u001b[0;32m~/.local/lib/python3.8/site-packages/awkward/highlevel.py\u001b[0m in \u001b[0;36m__getitem__\u001b[0;34m(self, where)\u001b[0m\n\u001b[1;32m    991\u001b[0m         \"\"\"\n\u001b[1;32m    992\u001b[0m         \u001b[0;32mif\u001b[0m \u001b[0;32mnot\u001b[0m \u001b[0mhasattr\u001b[0m\u001b[0;34m(\u001b[0m\u001b[0mself\u001b[0m\u001b[0;34m,\u001b[0m \u001b[0;34m\"_tracers\"\u001b[0m\u001b[0;34m)\u001b[0m\u001b[0;34m:\u001b[0m\u001b[0;34m\u001b[0m\u001b[0;34m\u001b[0m\u001b[0m\n\u001b[0;32m--> 993\u001b[0;31m             \u001b[0;32mreturn\u001b[0m \u001b[0mak\u001b[0m\u001b[0;34m.\u001b[0m\u001b[0m_util\u001b[0m\u001b[0;34m.\u001b[0m\u001b[0mwrap\u001b[0m\u001b[0;34m(\u001b[0m\u001b[0mself\u001b[0m\u001b[0;34m.\u001b[0m\u001b[0mlayout\u001b[0m\u001b[0;34m[\u001b[0m\u001b[0mwhere\u001b[0m\u001b[0;34m]\u001b[0m\u001b[0;34m,\u001b[0m \u001b[0mself\u001b[0m\u001b[0;34m.\u001b[0m\u001b[0m_behavior\u001b[0m\u001b[0;34m)\u001b[0m\u001b[0;34m\u001b[0m\u001b[0;34m\u001b[0m\u001b[0m\n\u001b[0m\u001b[1;32m    994\u001b[0m         \u001b[0;32melse\u001b[0m\u001b[0;34m:\u001b[0m\u001b[0;34m\u001b[0m\u001b[0;34m\u001b[0m\u001b[0m\n\u001b[1;32m    995\u001b[0m             \u001b[0;32mreturn\u001b[0m \u001b[0mak\u001b[0m\u001b[0;34m.\u001b[0m\u001b[0m_connect\u001b[0m\u001b[0;34m.\u001b[0m\u001b[0m_jax\u001b[0m\u001b[0;34m.\u001b[0m\u001b[0mjax_utils\u001b[0m\u001b[0;34m.\u001b[0m\u001b[0m_jaxtracers_getitem\u001b[0m\u001b[0;34m(\u001b[0m\u001b[0mself\u001b[0m\u001b[0;34m,\u001b[0m \u001b[0mwhere\u001b[0m\u001b[0;34m)\u001b[0m\u001b[0;34m\u001b[0m\u001b[0;34m\u001b[0m\u001b[0m\n",
      "\u001b[0;31mValueError\u001b[0m: key \"HcalBarrelHitsReco.polar.theta\" does not exist (not in record)\n\n(https://github.com/scikit-hep/awkward-1.0/blob/1.2.3/src/libawkward/util.cpp#L491)"
     ]
    }
   ],
   "source": [
    "for i in ['HcalBarrel']:#,'TrackerBarrel','VertexBarrel']:\n",
    "    E[i], x[i], y[i],z[i] = get_vector(\"%sHitsReco\"%i)\n",
    "for i in ['EcalBarrel']:#,'TrackerBarrel','VertexBarrel']:\n",
    "    E[i], x[i], y[i],z[i] = get_vector(\"%sHitsReco\"%i,energy='edep')\n",
    "for i in ['HcalHadronEndcap','EcalEndcap']:#,'TrackerEndcap','VertexEndcap']:\n",
    "    E[i], x[i], y[i],z[i] = get_vector(\"%sHitsReco\"%i)\n",
    "for i in ['CrystalEcal']:\n",
    "    E[i], x[i], y[i],z[i] = get_vector(\"%sHitsReco\"%i)"
   ]
  },
  {
   "cell_type": "markdown",
   "metadata": {},
   "source": [
    "## Get clusters"
   ]
  },
  {
   "cell_type": "code",
   "execution_count": null,
   "metadata": {},
   "outputs": [],
   "source": [
    "for i in ['HcalBarrelClusters','HcalHadronEndcapClusters','EcalBarrelClusters','EcalEndcapClusters']:\n",
    "    E[i], x[i], y[i],z[i] = get_vector(\"%s\"%i,energy='energy')"
   ]
  },
  {
   "cell_type": "markdown",
   "metadata": {},
   "source": [
    "## Plot 2D transverse view for hits in barrel"
   ]
  },
  {
   "cell_type": "code",
   "execution_count": null,
   "metadata": {
    "scrolled": true
   },
   "outputs": [],
   "source": [
    "#loop over events\n",
    "for ievt in range(0,10):\n",
    "    #HERE FILTER YOUR EVENTS IF YOU WANT\n",
    "    #if(len(x['VertexBarrel'][ievt])<3): continue\n",
    "    #if(len(x['TrackerBarrel'][ievt])<20): continue\n",
    "    #if(len(x['HcalBarrel'][ievt])<5): continue\n",
    "\n",
    " \n",
    "    print(ievt)\n",
    "    fig = plt.figure(figsize=(7,7))\n",
    "\n",
    "    ax = fig.add_subplot()#projection='polar')\n",
    "    c = ax.scatter([0],[0], s=0.01, cmap='hsv', alpha=0.75)\n",
    "    \n",
    "    \n",
    "    for i in ['Ecal','HcalHadron']:\n",
    "        key = '%sEndcap'%i\n",
    "        area = E[key][ievt]\n",
    "        area = np.divide(area,sum(area))\n",
    "        area = np.multiply(area,6000.0)\n",
    "        if(i=='Hcal'):\n",
    "            area = area*1.1\n",
    "        c = ax.scatter(x[key][ievt], y[key][ievt], s=3.1,cmap='hsv', color='black',alpha=0.85,label=\"%s hits\"%i)\n",
    "    \n",
    "    clusters_colors = {}\n",
    "    clusters_colors['HcalHadron'] = 'blue'\n",
    "    clusters_colors['Ecal'] = 'red'\n",
    "    for i in ['Ecal','HcalHadron']:\n",
    "        key = '%sEndcapClusters'%i\n",
    "        c = ax.scatter(x[key][ievt], y[key][ievt], np.multiply(E[key][ievt],0.0851),cmap='hsv', alpha=0.55,color=clusters_colors[i],label='%s cluster'%i)\n",
    "\n",
    "    ax.set_title( r\"$\\bf{ATHENA}$\" +' simulation [DD4hep] \\nPythia8+Geant4',fontsize=23)\n",
    "    ax.set_ylabel('Y [mm]',fontsize=18)\n",
    "    ax.set_xlabel('X [mm]',fontsize=18)\n",
    "    plt.legend(loc='upper left')\n",
    "    ax.set_ylim([-3500,3500])\n",
    "    ax.set_xlim([-3500,3500])\n",
    "    plt.savefig('pics/transverseview_event_%i.png'%(ievt))"
   ]
  },
  {
   "cell_type": "markdown",
   "metadata": {},
   "source": [
    "## z-y view "
   ]
  },
  {
   "cell_type": "code",
   "execution_count": null,
   "metadata": {
    "scrolled": false
   },
   "outputs": [],
   "source": [
    "colors = {}\n",
    "colors['Tracker'] = 'k'\n",
    "colors['HcalHadron'] = 'red'\n",
    "colors['Ecal'] = 'blue'\n",
    "colors['CrystalEcal'] ='orange'\n",
    "#loop over events\n",
    "for ievt in range(10):\n",
    "    #HERE FILTER YOUR EVENTS IF YOU WANT\n",
    "    #if(len(x['VertexBarrel'][ievt])<3): continue\n",
    "    #if(len(x['TrackerEndcap'][ievt])<5): continue\n",
    "    #if(len(x['HcalBarrel'][ievt])<50): continue\n",
    "    \n",
    "\n",
    "    print(ievt)\n",
    "    fig = plt.figure(figsize=(8,6))\n",
    "\n",
    "    print(ievt)\n",
    "    ax = fig.add_subplot()#projection='polar')\n",
    "    #c = ax.scatter([0],[0], s=1, cmap='hsv', alpha=0.75,color='black',label='Tracker')\n",
    "    \n",
    "    \n",
    "    for i in ['Ecal','HcalHadron']:\n",
    "        key = '%sEndcap'%i\n",
    "        #area = E[key][ievt]\n",
    "        area = E[key][ievt]\n",
    "       \n",
    "        area = np.divide(area,sum(area))\n",
    "        area = np.multiply(area,6000.0)\n",
    "        if(i=='Hcal'):\n",
    "            area = area*1.1\n",
    "        c = ax.scatter(z[key][ievt],y[key][ievt], s=area,cmap='hsv', alpha=0.55,color=colors[i],label=i+' hits')\n",
    "    \n",
    "    #area = E['HcalBarrelClusters'][ievt]\n",
    "       \n",
    "    #area = np.divide(area,sum(area))\n",
    "    #area = np.multiply(area,600.0)\n",
    "    \n",
    "    #c = ax.scatter(z['HcalBarrelClusters'][ievt],y['HcalBarrelClusters'][ievt], E['HcalBarrelClusters'][ievt],cmap='hsv', \n",
    "    #               alpha=0.55,color='black',label='Hcal barrel clusters')\n",
    "    c = ax.scatter(z['HcalHadronEndcapClusters'][ievt],y['HcalHadronEndcapClusters'][ievt], np.multiply(E['HcalHadronEndcapClusters'][ievt],0.05),cmap='hsv', \n",
    "                   alpha=0.55,color='green',label='Hcal hadron endcap clusters')\n",
    "    c = ax.scatter(z['EcalEndcapClusters'][ievt],y['EcalEndcapClusters'][ievt], np.multiply(E['EcalEndcapClusters'][ievt],0.05),cmap='hsv', \n",
    "                   alpha=0.55,color='black',label='Ecal hadron endcap clusters')\n",
    "    \n",
    "    #for i in ['CrystalEcal']:\n",
    "    #    key = '%s'%i\n",
    "    #    area = E[key][ievt]\n",
    "    #    area = np.divide(area,sum(area))\n",
    "    #    area = np.multiply(area,600.0)\n",
    "    #    if(i=='Hcal'):\n",
    "    #        area = area*1.2\n",
    "    #    c = ax.scatter(z[key][ievt], y[key][ievt], s=area,cmap='hsv', alpha=0.55,color=colors[i],label=i)\n",
    "\n",
    "    #Plot DIRC\n",
    "    ax.set_title( r\"$\\bf{ATHENA}$\" +' simulation [DD4hep] \\nPythia8+Geant4',fontsize=22)\n",
    "    ax.set_ylabel('Y [mm]',fontsize=18)\n",
    "    ax.set_xlabel('Z [mm]',fontsize=18)\n",
    "    plt.legend()\n",
    "    ax.set_ylim([-3500,3500])\n",
    "    ax.set_xlim([2000,5000])\n",
    "    plt.savefig('pics/longitudinalview_event_%i.png'%(ievt))"
   ]
  },
  {
   "cell_type": "markdown",
   "metadata": {},
   "source": [
    "## 2D projection (theta, phi)"
   ]
  },
  {
   "cell_type": "code",
   "execution_count": null,
   "metadata": {
    "scrolled": true
   },
   "outputs": [],
   "source": [
    "\n",
    "for ievt in range(1,30):\n",
    "    #ievt = 327\n",
    "    #if(len(x['VertexBarrel'][ievt])<3): continue\n",
    "    #fig = plt.figure(figsize=(7,7))\n",
    "    #ax = fig.add_subplot(projection='polar')\n",
    "    \n",
    "    print(ievt)\n",
    "    colors = {}\n",
    "    colors['Tracker'] = 'k'\n",
    "    colors['Hcal'] = 'red'\n",
    "    colors['Ecal'] = 'blue'\n",
    "    fig = plt.figure()\n",
    "    ax = fig.add_subplot(111)\n",
    "\n",
    "    for j in ['Barrel']:\n",
    "        for i in ['Ecal','Hcal']:\n",
    "            key = '%s%s'%(i,j)\n",
    "            phi = 180.0/np.pi*np.arcsin(np.divide(y[key][ievt],x[key][ievt]))\n",
    "            theta = 180.0/np.pi*np.arcsin(np.divide(y[key][ievt],z[key][ievt]))\n",
    "            #xx = np.sin(phi)*np.cos(theta)\n",
    "            #yy = np.sin(phi)*np.sin(theta)\n",
    "            #zz = np.cos(phi)\n",
    "             \n",
    "            area = E[key][ievt]\n",
    "            area = np.divide(area,sum(area))\n",
    "            area = np.multiply(area,260.0)\n",
    "            area=200\n",
    "            if(i=='Hcal'):\n",
    "                area=600\n",
    "            \n",
    "            ax.scatter(phi,theta,s=area,cmap='hsv',color=colors[i],alpha=0.2,label=i)\n",
    "            #ax.set_ylim([-np.pi/2.0,np.pi/2.0])\n",
    "            #ax.set_xlim([-np.pi/2.0,np.pi/2.0])     \n",
    "            ax.set_ylabel('Polar Angle')\n",
    "            ax.set_xlabel('Azimuthal Angle')\n",
    "    #plt.legend()\n",
    "\n",
    "        \n",
    "    \n",
    "    "
   ]
  },
  {
   "cell_type": "markdown",
   "metadata": {},
   "source": [
    "## 3D viz"
   ]
  },
  {
   "cell_type": "code",
   "execution_count": null,
   "metadata": {
    "scrolled": true
   },
   "outputs": [],
   "source": [
    "from mpl_toolkits import mplot3d\n",
    "import matplotlib.colors as colors\n",
    "import matplotlib.cbook as cbook\n",
    "fig = plt.figure(figsize=(10,10))\n",
    "\n",
    "ax = plt.axes(projection='3d')\n",
    "ievt =8\n",
    "\n",
    "ax.set_title('hits')\n",
    "\n",
    "colors = {}\n",
    "colors['Vertex'] = 'black'\n",
    "colors['Tracker'] = 'black'\n",
    "colors['Ecal']  = 'green'\n",
    "colors['HcalHadron']  = 'red'\n",
    "for i in ['Ecal','HcalHadron']:\n",
    "    key = '%sEndcap'%i\n",
    "    area = E[key][ievt]\n",
    "    area = np.divide(area,sum(area))\n",
    "    area = np.multiply(area,len(E[key][ievt]))\n",
    "    ax.scatter3D(z[key][ievt],x[key][ievt],y[key][ievt],s=area, color=colors[i],label=key)\n",
    "plt.legend()\n",
    "\n",
    "for i in ['Ecal','HcalHadron']:\n",
    "    key = '%sEndcapClusters'%i\n",
    "    area = E[key][ievt]\n",
    "    #area = np.divide(area,sum(area))\n",
    "    area = np.multiply(area,0.1)\n",
    "    ax.scatter3D(z[key][ievt],x[key][ievt],y[key][ievt],s = area, color='black',label=key)    \n",
    "#ax.scatter3D(z_ecalhit[ievt],x_ecalhit[ievt],y_ecalhit[ievt], cmap='viridis',label='Ecal')\n",
    "\n",
    "\n",
    "#ax.scatter3D(z_hcalhit[ievt],x_hcalhit[ievt],y_hcalhit[ievt], cmap='copper',label='hcal')\n",
    "\n",
    "ax.axes.set_xlim3d(left=-3500, right=3500) \n",
    "ax.axes.set_ylim3d(bottom=-3500, top=3500) \n",
    "ax.axes.set_zlim3d(bottom=-2000, top=3500) \n",
    "ax.axes.set_ylabel('x [mm]')\n",
    "ax.axes.set_zlabel('y [mm]')\n",
    "ax.axes.set_xlabel('z [mm]')\n",
    "ax.view_init(30, 30)\n",
    "\n",
    "\n"
   ]
  },
  {
   "cell_type": "code",
   "execution_count": null,
   "metadata": {
    "scrolled": true
   },
   "outputs": [],
   "source": []
  }
 ],
 "metadata": {
  "kernelspec": {
   "display_name": "Python 3",
   "language": "python",
   "name": "python3"
  },
  "language_info": {
   "codemirror_mode": {
    "name": "ipython",
    "version": 3
   },
   "file_extension": ".py",
   "mimetype": "text/x-python",
   "name": "python",
   "nbconvert_exporter": "python",
   "pygments_lexer": "ipython3",
   "version": "3.8.5"
  }
 },
 "nbformat": 4,
 "nbformat_minor": 4
}
