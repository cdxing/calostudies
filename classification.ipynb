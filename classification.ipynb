{
 "cells": [
  {
   "cell_type": "code",
   "execution_count": 1,
   "metadata": {},
   "outputs": [],
   "source": [
    "# %matplotlib notebook\n",
    "import math\n",
    "import uproot as ur\n",
    "import matplotlib.pyplot as plt\n",
    "from mpl_toolkits.mplot3d import axes3d   \n",
    "import k3d\n",
    "import numpy as np\n",
    "import awkward as ak\n"
   ]
  },
  {
   "cell_type": "markdown",
   "metadata": {},
   "source": [
    "## Get file and TTree, print branches, convert to array"
   ]
  },
  {
   "cell_type": "code",
   "execution_count": 2,
   "metadata": {
    "tags": []
   },
   "outputs": [
    {
     "name": "stdout",
     "output_type": "stream",
     "text": [
      "['mcparticles2', 'mcparticles2/mcparticles2.ID', 'mcparticles2/mcparticles2.g4Parent', 'mcparticles2/mcparticles2.reason', 'mcparticles2/mcparticles2.mask', 'mcparticles2/mcparticles2.steps', 'mcparticles2/mcparticles2.secondaries', 'mcparticles2/mcparticles2.pdgID', 'mcparticles2/mcparticles2.status', 'mcparticles2/mcparticles2.colorFlow[2]', 'mcparticles2/mcparticles2.genStatus', 'mcparticles2/mcparticles2.charge', 'mcparticles2/mcparticles2.spare[1]', 'mcparticles2/mcparticles2.spin[3]', 'mcparticles2/mcparticles2.vsx', 'mcparticles2/mcparticles2.vsy', 'mcparticles2/mcparticles2.vsz', 'mcparticles2/mcparticles2.vex', 'mcparticles2/mcparticles2.vey', 'mcparticles2/mcparticles2.vez', 'mcparticles2/mcparticles2.psx', 'mcparticles2/mcparticles2.psy', 'mcparticles2/mcparticles2.psz', 'mcparticles2/mcparticles2.pex', 'mcparticles2/mcparticles2.pey', 'mcparticles2/mcparticles2.pez', 'mcparticles2/mcparticles2.mass', 'mcparticles2/mcparticles2.time', 'mcparticles2/mcparticles2.properTime', 'mcparticles2/mcparticles2.parents_begin', 'mcparticles2/mcparticles2.parents_end', 'mcparticles2/mcparticles2.daughters_begin', 'mcparticles2/mcparticles2.daughters_end', 'EcalEndcapPHitsDigi', 'EcalEndcapPHitsDigi/EcalEndcapPHitsDigi.cellID', 'EcalEndcapPHitsDigi/EcalEndcapPHitsDigi.amplitude', 'EcalEndcapPHitsDigi/EcalEndcapPHitsDigi.timeStamp', 'EcalEndcapPHitsReco', 'EcalEndcapPHitsReco/EcalEndcapPHitsReco.cellID', 'EcalEndcapPHitsReco/EcalEndcapPHitsReco.clusterID', 'EcalEndcapPHitsReco/EcalEndcapPHitsReco.layerID', 'EcalEndcapPHitsReco/EcalEndcapPHitsReco.sectorID', 'EcalEndcapPHitsReco/EcalEndcapPHitsReco.energy', 'EcalEndcapPHitsReco/EcalEndcapPHitsReco.time', 'EcalEndcapPHitsReco/EcalEndcapPHitsReco.position.x', 'EcalEndcapPHitsReco/EcalEndcapPHitsReco.position.y', 'EcalEndcapPHitsReco/EcalEndcapPHitsReco.position.z', 'EcalEndcapPHitsReco/EcalEndcapPHitsReco.local.local_x', 'EcalEndcapPHitsReco/EcalEndcapPHitsReco.local.local_y', 'EcalEndcapPHitsReco/EcalEndcapPHitsReco.local.local_z', 'EcalEndcapPHitsReco/EcalEndcapPHitsReco.dimension.dim_x', 'EcalEndcapPHitsReco/EcalEndcapPHitsReco.dimension.dim_y', 'EcalEndcapPHitsReco/EcalEndcapPHitsReco.dimension.dim_z', 'EcalEndcapPHitsReco/EcalEndcapPHitsReco.type', 'EcalEndcapPHitsReco#0', 'EcalEndcapPHitsReco#0/EcalEndcapPHitsReco#0.index', 'EcalEndcapPHitsReco#0/EcalEndcapPHitsReco#0.collectionID', 'EcalEndcapPHitsRecoXY', 'EcalEndcapPHitsRecoXY/EcalEndcapPHitsRecoXY.cellID', 'EcalEndcapPHitsRecoXY/EcalEndcapPHitsRecoXY.clusterID', 'EcalEndcapPHitsRecoXY/EcalEndcapPHitsRecoXY.layerID', 'EcalEndcapPHitsRecoXY/EcalEndcapPHitsRecoXY.sectorID', 'EcalEndcapPHitsRecoXY/EcalEndcapPHitsRecoXY.energy', 'EcalEndcapPHitsRecoXY/EcalEndcapPHitsRecoXY.time', 'EcalEndcapPHitsRecoXY/EcalEndcapPHitsRecoXY.position.x', 'EcalEndcapPHitsRecoXY/EcalEndcapPHitsRecoXY.position.y', 'EcalEndcapPHitsRecoXY/EcalEndcapPHitsRecoXY.position.z', 'EcalEndcapPHitsRecoXY/EcalEndcapPHitsRecoXY.local.local_x', 'EcalEndcapPHitsRecoXY/EcalEndcapPHitsRecoXY.local.local_y', 'EcalEndcapPHitsRecoXY/EcalEndcapPHitsRecoXY.local.local_z', 'EcalEndcapPHitsRecoXY/EcalEndcapPHitsRecoXY.dimension.dim_x', 'EcalEndcapPHitsRecoXY/EcalEndcapPHitsRecoXY.dimension.dim_y', 'EcalEndcapPHitsRecoXY/EcalEndcapPHitsRecoXY.dimension.dim_z', 'EcalEndcapPHitsRecoXY/EcalEndcapPHitsRecoXY.type', 'EcalEndcapPHitsRecoXY#0', 'EcalEndcapPHitsRecoXY#0/EcalEndcapPHitsRecoXY#0.index', 'EcalEndcapPHitsRecoXY#0/EcalEndcapPHitsRecoXY#0.collectionID', 'EcalEndcapPClusterHits', 'EcalEndcapPClusterHits/EcalEndcapPClusterHits.cellID', 'EcalEndcapPClusterHits/EcalEndcapPClusterHits.clusterID', 'EcalEndcapPClusterHits/EcalEndcapPClusterHits.layerID', 'EcalEndcapPClusterHits/EcalEndcapPClusterHits.sectorID', 'EcalEndcapPClusterHits/EcalEndcapPClusterHits.energy', 'EcalEndcapPClusterHits/EcalEndcapPClusterHits.time', 'EcalEndcapPClusterHits/EcalEndcapPClusterHits.position.x', 'EcalEndcapPClusterHits/EcalEndcapPClusterHits.position.y', 'EcalEndcapPClusterHits/EcalEndcapPClusterHits.position.z', 'EcalEndcapPClusterHits/EcalEndcapPClusterHits.local.local_x', 'EcalEndcapPClusterHits/EcalEndcapPClusterHits.local.local_y', 'EcalEndcapPClusterHits/EcalEndcapPClusterHits.local.local_z', 'EcalEndcapPClusterHits/EcalEndcapPClusterHits.dimension.dim_x', 'EcalEndcapPClusterHits/EcalEndcapPClusterHits.dimension.dim_y', 'EcalEndcapPClusterHits/EcalEndcapPClusterHits.dimension.dim_z', 'EcalEndcapPClusterHits/EcalEndcapPClusterHits.type', 'EcalEndcapPClusterHits#0', 'EcalEndcapPClusterHits#0/EcalEndcapPClusterHits#0.index', 'EcalEndcapPClusterHits#0/EcalEndcapPClusterHits#0.collectionID', 'EcalEndcapPClusters', 'EcalEndcapPClusters/EcalEndcapPClusters.clusterID', 'EcalEndcapPClusters/EcalEndcapPClusters.energy', 'EcalEndcapPClusters/EcalEndcapPClusters.edep', 'EcalEndcapPClusters/EcalEndcapPClusters.nhits', 'EcalEndcapPClusters/EcalEndcapPClusters.position.x', 'EcalEndcapPClusters/EcalEndcapPClusters.position.y', 'EcalEndcapPClusters/EcalEndcapPClusters.position.z', 'EcalEndcapPClusters/EcalEndcapPClusters.positionError.cov_xx', 'EcalEndcapPClusters/EcalEndcapPClusters.positionError.cov_yy', 'EcalEndcapPClusters/EcalEndcapPClusters.positionError.cov_zz', 'EcalEndcapPClusters/EcalEndcapPClusters.positionError.cov_xy', 'EcalEndcapPClusters/EcalEndcapPClusters.positionError.cov_xz', 'EcalEndcapPClusters/EcalEndcapPClusters.positionError.cov_yz', 'EcalEndcapPClusters/EcalEndcapPClusters.polar.r', 'EcalEndcapPClusters/EcalEndcapPClusters.polar.theta', 'EcalEndcapPClusters/EcalEndcapPClusters.polar.phi', 'EcalEndcapPClusters/EcalEndcapPClusters.cl_theta', 'EcalEndcapPClusters/EcalEndcapPClusters.cl_phi', 'EcalEndcapPClusters/EcalEndcapPClusters.clusters_begin', 'EcalEndcapPClusters/EcalEndcapPClusters.clusters_end', 'EcalEndcapPClusters/EcalEndcapPClusters.hits_begin', 'EcalEndcapPClusters/EcalEndcapPClusters.hits_end', 'EcalEndcapPClusters#0', 'EcalEndcapPClusters#0/EcalEndcapPClusters#0.index', 'EcalEndcapPClusters#0/EcalEndcapPClusters#0.collectionID', 'EcalEndcapPClusters#1', 'EcalEndcapPClusters#1/EcalEndcapPClusters#1.index', 'EcalEndcapPClusters#1/EcalEndcapPClusters#1.collectionID', 'HcalHadronEndcapHitsDigi', 'HcalHadronEndcapHitsDigi/HcalHadronEndcapHitsDigi.cellID', 'HcalHadronEndcapHitsDigi/HcalHadronEndcapHitsDigi.amplitude', 'HcalHadronEndcapHitsDigi/HcalHadronEndcapHitsDigi.timeStamp', 'HcalHadronEndcapHitsReco', 'HcalHadronEndcapHitsReco/HcalHadronEndcapHitsReco.cellID', 'HcalHadronEndcapHitsReco/HcalHadronEndcapHitsReco.clusterID', 'HcalHadronEndcapHitsReco/HcalHadronEndcapHitsReco.layerID', 'HcalHadronEndcapHitsReco/HcalHadronEndcapHitsReco.sectorID', 'HcalHadronEndcapHitsReco/HcalHadronEndcapHitsReco.energy', 'HcalHadronEndcapHitsReco/HcalHadronEndcapHitsReco.time', 'HcalHadronEndcapHitsReco/HcalHadronEndcapHitsReco.position.x', 'HcalHadronEndcapHitsReco/HcalHadronEndcapHitsReco.position.y', 'HcalHadronEndcapHitsReco/HcalHadronEndcapHitsReco.position.z', 'HcalHadronEndcapHitsReco/HcalHadronEndcapHitsReco.local.local_x', 'HcalHadronEndcapHitsReco/HcalHadronEndcapHitsReco.local.local_y', 'HcalHadronEndcapHitsReco/HcalHadronEndcapHitsReco.local.local_z', 'HcalHadronEndcapHitsReco/HcalHadronEndcapHitsReco.dimension.dim_x', 'HcalHadronEndcapHitsReco/HcalHadronEndcapHitsReco.dimension.dim_y', 'HcalHadronEndcapHitsReco/HcalHadronEndcapHitsReco.dimension.dim_z', 'HcalHadronEndcapHitsReco/HcalHadronEndcapHitsReco.type', 'HcalHadronEndcapHitsReco#0', 'HcalHadronEndcapHitsReco#0/HcalHadronEndcapHitsReco#0.index', 'HcalHadronEndcapHitsReco#0/HcalHadronEndcapHitsReco#0.collectionID', 'HcalHadronEndcapHitsRecoXY', 'HcalHadronEndcapHitsRecoXY/HcalHadronEndcapHitsRecoXY.cellID', 'HcalHadronEndcapHitsRecoXY/HcalHadronEndcapHitsRecoXY.clusterID', 'HcalHadronEndcapHitsRecoXY/HcalHadronEndcapHitsRecoXY.layerID', 'HcalHadronEndcapHitsRecoXY/HcalHadronEndcapHitsRecoXY.sectorID', 'HcalHadronEndcapHitsRecoXY/HcalHadronEndcapHitsRecoXY.energy', 'HcalHadronEndcapHitsRecoXY/HcalHadronEndcapHitsRecoXY.time', 'HcalHadronEndcapHitsRecoXY/HcalHadronEndcapHitsRecoXY.position.x', 'HcalHadronEndcapHitsRecoXY/HcalHadronEndcapHitsRecoXY.position.y', 'HcalHadronEndcapHitsRecoXY/HcalHadronEndcapHitsRecoXY.position.z', 'HcalHadronEndcapHitsRecoXY/HcalHadronEndcapHitsRecoXY.local.local_x', 'HcalHadronEndcapHitsRecoXY/HcalHadronEndcapHitsRecoXY.local.local_y', 'HcalHadronEndcapHitsRecoXY/HcalHadronEndcapHitsRecoXY.local.local_z', 'HcalHadronEndcapHitsRecoXY/HcalHadronEndcapHitsRecoXY.dimension.dim_x', 'HcalHadronEndcapHitsRecoXY/HcalHadronEndcapHitsRecoXY.dimension.dim_y', 'HcalHadronEndcapHitsRecoXY/HcalHadronEndcapHitsRecoXY.dimension.dim_z', 'HcalHadronEndcapHitsRecoXY/HcalHadronEndcapHitsRecoXY.type', 'HcalHadronEndcapHitsRecoXY#0', 'HcalHadronEndcapHitsRecoXY#0/HcalHadronEndcapHitsRecoXY#0.index', 'HcalHadronEndcapHitsRecoXY#0/HcalHadronEndcapHitsRecoXY#0.collectionID', 'HcalHadronEndcapClusterHits', 'HcalHadronEndcapClusterHits/HcalHadronEndcapClusterHits.cellID', 'HcalHadronEndcapClusterHits/HcalHadronEndcapClusterHits.clusterID', 'HcalHadronEndcapClusterHits/HcalHadronEndcapClusterHits.layerID', 'HcalHadronEndcapClusterHits/HcalHadronEndcapClusterHits.sectorID', 'HcalHadronEndcapClusterHits/HcalHadronEndcapClusterHits.energy', 'HcalHadronEndcapClusterHits/HcalHadronEndcapClusterHits.time', 'HcalHadronEndcapClusterHits/HcalHadronEndcapClusterHits.position.x', 'HcalHadronEndcapClusterHits/HcalHadronEndcapClusterHits.position.y', 'HcalHadronEndcapClusterHits/HcalHadronEndcapClusterHits.position.z', 'HcalHadronEndcapClusterHits/HcalHadronEndcapClusterHits.local.local_x', 'HcalHadronEndcapClusterHits/HcalHadronEndcapClusterHits.local.local_y', 'HcalHadronEndcapClusterHits/HcalHadronEndcapClusterHits.local.local_z', 'HcalHadronEndcapClusterHits/HcalHadronEndcapClusterHits.dimension.dim_x', 'HcalHadronEndcapClusterHits/HcalHadronEndcapClusterHits.dimension.dim_y', 'HcalHadronEndcapClusterHits/HcalHadronEndcapClusterHits.dimension.dim_z', 'HcalHadronEndcapClusterHits/HcalHadronEndcapClusterHits.type', 'HcalHadronEndcapClusterHits#0', 'HcalHadronEndcapClusterHits#0/HcalHadronEndcapClusterHits#0.index', 'HcalHadronEndcapClusterHits#0/HcalHadronEndcapClusterHits#0.collectionID', 'HcalHadronEndcapClusters', 'HcalHadronEndcapClusters/HcalHadronEndcapClusters.clusterID', 'HcalHadronEndcapClusters/HcalHadronEndcapClusters.energy', 'HcalHadronEndcapClusters/HcalHadronEndcapClusters.edep', 'HcalHadronEndcapClusters/HcalHadronEndcapClusters.nhits', 'HcalHadronEndcapClusters/HcalHadronEndcapClusters.position.x', 'HcalHadronEndcapClusters/HcalHadronEndcapClusters.position.y', 'HcalHadronEndcapClusters/HcalHadronEndcapClusters.position.z', 'HcalHadronEndcapClusters/HcalHadronEndcapClusters.positionError.cov_xx', 'HcalHadronEndcapClusters/HcalHadronEndcapClusters.positionError.cov_yy', 'HcalHadronEndcapClusters/HcalHadronEndcapClusters.positionError.cov_zz', 'HcalHadronEndcapClusters/HcalHadronEndcapClusters.positionError.cov_xy', 'HcalHadronEndcapClusters/HcalHadronEndcapClusters.positionError.cov_xz', 'HcalHadronEndcapClusters/HcalHadronEndcapClusters.positionError.cov_yz', 'HcalHadronEndcapClusters/HcalHadronEndcapClusters.polar.r', 'HcalHadronEndcapClusters/HcalHadronEndcapClusters.polar.theta', 'HcalHadronEndcapClusters/HcalHadronEndcapClusters.polar.phi', 'HcalHadronEndcapClusters/HcalHadronEndcapClusters.cl_theta', 'HcalHadronEndcapClusters/HcalHadronEndcapClusters.cl_phi', 'HcalHadronEndcapClusters/HcalHadronEndcapClusters.clusters_begin', 'HcalHadronEndcapClusters/HcalHadronEndcapClusters.clusters_end', 'HcalHadronEndcapClusters/HcalHadronEndcapClusters.hits_begin', 'HcalHadronEndcapClusters/HcalHadronEndcapClusters.hits_end', 'HcalHadronEndcapClusters#0', 'HcalHadronEndcapClusters#0/HcalHadronEndcapClusters#0.index', 'HcalHadronEndcapClusters#0/HcalHadronEndcapClusters#0.collectionID', 'HcalHadronEndcapClusters#1', 'HcalHadronEndcapClusters#1/HcalHadronEndcapClusters#1.index', 'HcalHadronEndcapClusters#1/HcalHadronEndcapClusters#1.collectionID']\n"
     ]
    }
   ],
   "source": [
    "# piplus_events = ur.open(\"pi+_10GeV_130to177deg.0001.root:events\")\n",
    "piplus_events = ur.open(\"rec_pionplus.root:events\")\n",
    "pi0_events = ur.open(\"rec_pion0.root:events\")\n",
    "\n",
    "print(piplus_events.keys())"
   ]
  },
  {
   "cell_type": "code",
   "execution_count": 3,
   "metadata": {
    "tags": []
   },
   "outputs": [
    {
     "name": "stdout",
     "output_type": "stream",
     "text": [
      "['mcparticles2', 'mcparticles2/mcparticles2.ID', 'mcparticles2/mcparticles2.g4Parent', 'mcparticles2/mcparticles2.reason', 'mcparticles2/mcparticles2.mask', 'mcparticles2/mcparticles2.steps', 'mcparticles2/mcparticles2.secondaries', 'mcparticles2/mcparticles2.pdgID', 'mcparticles2/mcparticles2.status', 'mcparticles2/mcparticles2.colorFlow[2]', 'mcparticles2/mcparticles2.genStatus', 'mcparticles2/mcparticles2.charge', 'mcparticles2/mcparticles2.spare[1]', 'mcparticles2/mcparticles2.spin[3]', 'mcparticles2/mcparticles2.vsx', 'mcparticles2/mcparticles2.vsy', 'mcparticles2/mcparticles2.vsz', 'mcparticles2/mcparticles2.vex', 'mcparticles2/mcparticles2.vey', 'mcparticles2/mcparticles2.vez', 'mcparticles2/mcparticles2.psx', 'mcparticles2/mcparticles2.psy', 'mcparticles2/mcparticles2.psz', 'mcparticles2/mcparticles2.pex', 'mcparticles2/mcparticles2.pey', 'mcparticles2/mcparticles2.pez', 'mcparticles2/mcparticles2.mass', 'mcparticles2/mcparticles2.time', 'mcparticles2/mcparticles2.properTime', 'mcparticles2/mcparticles2.parents_begin', 'mcparticles2/mcparticles2.parents_end', 'mcparticles2/mcparticles2.daughters_begin', 'mcparticles2/mcparticles2.daughters_end', 'EcalEndcapPHitsDigi', 'EcalEndcapPHitsDigi/EcalEndcapPHitsDigi.cellID', 'EcalEndcapPHitsDigi/EcalEndcapPHitsDigi.amplitude', 'EcalEndcapPHitsDigi/EcalEndcapPHitsDigi.timeStamp', 'EcalEndcapPHitsReco', 'EcalEndcapPHitsReco/EcalEndcapPHitsReco.cellID', 'EcalEndcapPHitsReco/EcalEndcapPHitsReco.clusterID', 'EcalEndcapPHitsReco/EcalEndcapPHitsReco.layerID', 'EcalEndcapPHitsReco/EcalEndcapPHitsReco.sectorID', 'EcalEndcapPHitsReco/EcalEndcapPHitsReco.energy', 'EcalEndcapPHitsReco/EcalEndcapPHitsReco.time', 'EcalEndcapPHitsReco/EcalEndcapPHitsReco.position.x', 'EcalEndcapPHitsReco/EcalEndcapPHitsReco.position.y', 'EcalEndcapPHitsReco/EcalEndcapPHitsReco.position.z', 'EcalEndcapPHitsReco/EcalEndcapPHitsReco.local.local_x', 'EcalEndcapPHitsReco/EcalEndcapPHitsReco.local.local_y', 'EcalEndcapPHitsReco/EcalEndcapPHitsReco.local.local_z', 'EcalEndcapPHitsReco/EcalEndcapPHitsReco.dimension.dim_x', 'EcalEndcapPHitsReco/EcalEndcapPHitsReco.dimension.dim_y', 'EcalEndcapPHitsReco/EcalEndcapPHitsReco.dimension.dim_z', 'EcalEndcapPHitsReco/EcalEndcapPHitsReco.type', 'EcalEndcapPHitsReco#0', 'EcalEndcapPHitsReco#0/EcalEndcapPHitsReco#0.index', 'EcalEndcapPHitsReco#0/EcalEndcapPHitsReco#0.collectionID', 'EcalEndcapPHitsRecoXY', 'EcalEndcapPHitsRecoXY/EcalEndcapPHitsRecoXY.cellID', 'EcalEndcapPHitsRecoXY/EcalEndcapPHitsRecoXY.clusterID', 'EcalEndcapPHitsRecoXY/EcalEndcapPHitsRecoXY.layerID', 'EcalEndcapPHitsRecoXY/EcalEndcapPHitsRecoXY.sectorID', 'EcalEndcapPHitsRecoXY/EcalEndcapPHitsRecoXY.energy', 'EcalEndcapPHitsRecoXY/EcalEndcapPHitsRecoXY.time', 'EcalEndcapPHitsRecoXY/EcalEndcapPHitsRecoXY.position.x', 'EcalEndcapPHitsRecoXY/EcalEndcapPHitsRecoXY.position.y', 'EcalEndcapPHitsRecoXY/EcalEndcapPHitsRecoXY.position.z', 'EcalEndcapPHitsRecoXY/EcalEndcapPHitsRecoXY.local.local_x', 'EcalEndcapPHitsRecoXY/EcalEndcapPHitsRecoXY.local.local_y', 'EcalEndcapPHitsRecoXY/EcalEndcapPHitsRecoXY.local.local_z', 'EcalEndcapPHitsRecoXY/EcalEndcapPHitsRecoXY.dimension.dim_x', 'EcalEndcapPHitsRecoXY/EcalEndcapPHitsRecoXY.dimension.dim_y', 'EcalEndcapPHitsRecoXY/EcalEndcapPHitsRecoXY.dimension.dim_z', 'EcalEndcapPHitsRecoXY/EcalEndcapPHitsRecoXY.type', 'EcalEndcapPHitsRecoXY#0', 'EcalEndcapPHitsRecoXY#0/EcalEndcapPHitsRecoXY#0.index', 'EcalEndcapPHitsRecoXY#0/EcalEndcapPHitsRecoXY#0.collectionID', 'EcalEndcapPClusterHits', 'EcalEndcapPClusterHits/EcalEndcapPClusterHits.cellID', 'EcalEndcapPClusterHits/EcalEndcapPClusterHits.clusterID', 'EcalEndcapPClusterHits/EcalEndcapPClusterHits.layerID', 'EcalEndcapPClusterHits/EcalEndcapPClusterHits.sectorID', 'EcalEndcapPClusterHits/EcalEndcapPClusterHits.energy', 'EcalEndcapPClusterHits/EcalEndcapPClusterHits.time', 'EcalEndcapPClusterHits/EcalEndcapPClusterHits.position.x', 'EcalEndcapPClusterHits/EcalEndcapPClusterHits.position.y', 'EcalEndcapPClusterHits/EcalEndcapPClusterHits.position.z', 'EcalEndcapPClusterHits/EcalEndcapPClusterHits.local.local_x', 'EcalEndcapPClusterHits/EcalEndcapPClusterHits.local.local_y', 'EcalEndcapPClusterHits/EcalEndcapPClusterHits.local.local_z', 'EcalEndcapPClusterHits/EcalEndcapPClusterHits.dimension.dim_x', 'EcalEndcapPClusterHits/EcalEndcapPClusterHits.dimension.dim_y', 'EcalEndcapPClusterHits/EcalEndcapPClusterHits.dimension.dim_z', 'EcalEndcapPClusterHits/EcalEndcapPClusterHits.type', 'EcalEndcapPClusterHits#0', 'EcalEndcapPClusterHits#0/EcalEndcapPClusterHits#0.index', 'EcalEndcapPClusterHits#0/EcalEndcapPClusterHits#0.collectionID', 'EcalEndcapPClusters', 'EcalEndcapPClusters/EcalEndcapPClusters.clusterID', 'EcalEndcapPClusters/EcalEndcapPClusters.energy', 'EcalEndcapPClusters/EcalEndcapPClusters.edep', 'EcalEndcapPClusters/EcalEndcapPClusters.nhits', 'EcalEndcapPClusters/EcalEndcapPClusters.position.x', 'EcalEndcapPClusters/EcalEndcapPClusters.position.y', 'EcalEndcapPClusters/EcalEndcapPClusters.position.z', 'EcalEndcapPClusters/EcalEndcapPClusters.positionError.cov_xx', 'EcalEndcapPClusters/EcalEndcapPClusters.positionError.cov_yy', 'EcalEndcapPClusters/EcalEndcapPClusters.positionError.cov_zz', 'EcalEndcapPClusters/EcalEndcapPClusters.positionError.cov_xy', 'EcalEndcapPClusters/EcalEndcapPClusters.positionError.cov_xz', 'EcalEndcapPClusters/EcalEndcapPClusters.positionError.cov_yz', 'EcalEndcapPClusters/EcalEndcapPClusters.polar.r', 'EcalEndcapPClusters/EcalEndcapPClusters.polar.theta', 'EcalEndcapPClusters/EcalEndcapPClusters.polar.phi', 'EcalEndcapPClusters/EcalEndcapPClusters.cl_theta', 'EcalEndcapPClusters/EcalEndcapPClusters.cl_phi', 'EcalEndcapPClusters/EcalEndcapPClusters.clusters_begin', 'EcalEndcapPClusters/EcalEndcapPClusters.clusters_end', 'EcalEndcapPClusters/EcalEndcapPClusters.hits_begin', 'EcalEndcapPClusters/EcalEndcapPClusters.hits_end', 'EcalEndcapPClusters#0', 'EcalEndcapPClusters#0/EcalEndcapPClusters#0.index', 'EcalEndcapPClusters#0/EcalEndcapPClusters#0.collectionID', 'EcalEndcapPClusters#1', 'EcalEndcapPClusters#1/EcalEndcapPClusters#1.index', 'EcalEndcapPClusters#1/EcalEndcapPClusters#1.collectionID', 'HcalHadronEndcapHitsDigi', 'HcalHadronEndcapHitsDigi/HcalHadronEndcapHitsDigi.cellID', 'HcalHadronEndcapHitsDigi/HcalHadronEndcapHitsDigi.amplitude', 'HcalHadronEndcapHitsDigi/HcalHadronEndcapHitsDigi.timeStamp', 'HcalHadronEndcapHitsReco', 'HcalHadronEndcapHitsReco/HcalHadronEndcapHitsReco.cellID', 'HcalHadronEndcapHitsReco/HcalHadronEndcapHitsReco.clusterID', 'HcalHadronEndcapHitsReco/HcalHadronEndcapHitsReco.layerID', 'HcalHadronEndcapHitsReco/HcalHadronEndcapHitsReco.sectorID', 'HcalHadronEndcapHitsReco/HcalHadronEndcapHitsReco.energy', 'HcalHadronEndcapHitsReco/HcalHadronEndcapHitsReco.time', 'HcalHadronEndcapHitsReco/HcalHadronEndcapHitsReco.position.x', 'HcalHadronEndcapHitsReco/HcalHadronEndcapHitsReco.position.y', 'HcalHadronEndcapHitsReco/HcalHadronEndcapHitsReco.position.z', 'HcalHadronEndcapHitsReco/HcalHadronEndcapHitsReco.local.local_x', 'HcalHadronEndcapHitsReco/HcalHadronEndcapHitsReco.local.local_y', 'HcalHadronEndcapHitsReco/HcalHadronEndcapHitsReco.local.local_z', 'HcalHadronEndcapHitsReco/HcalHadronEndcapHitsReco.dimension.dim_x', 'HcalHadronEndcapHitsReco/HcalHadronEndcapHitsReco.dimension.dim_y', 'HcalHadronEndcapHitsReco/HcalHadronEndcapHitsReco.dimension.dim_z', 'HcalHadronEndcapHitsReco/HcalHadronEndcapHitsReco.type', 'HcalHadronEndcapHitsReco#0', 'HcalHadronEndcapHitsReco#0/HcalHadronEndcapHitsReco#0.index', 'HcalHadronEndcapHitsReco#0/HcalHadronEndcapHitsReco#0.collectionID', 'HcalHadronEndcapHitsRecoXY', 'HcalHadronEndcapHitsRecoXY/HcalHadronEndcapHitsRecoXY.cellID', 'HcalHadronEndcapHitsRecoXY/HcalHadronEndcapHitsRecoXY.clusterID', 'HcalHadronEndcapHitsRecoXY/HcalHadronEndcapHitsRecoXY.layerID', 'HcalHadronEndcapHitsRecoXY/HcalHadronEndcapHitsRecoXY.sectorID', 'HcalHadronEndcapHitsRecoXY/HcalHadronEndcapHitsRecoXY.energy', 'HcalHadronEndcapHitsRecoXY/HcalHadronEndcapHitsRecoXY.time', 'HcalHadronEndcapHitsRecoXY/HcalHadronEndcapHitsRecoXY.position.x', 'HcalHadronEndcapHitsRecoXY/HcalHadronEndcapHitsRecoXY.position.y', 'HcalHadronEndcapHitsRecoXY/HcalHadronEndcapHitsRecoXY.position.z', 'HcalHadronEndcapHitsRecoXY/HcalHadronEndcapHitsRecoXY.local.local_x', 'HcalHadronEndcapHitsRecoXY/HcalHadronEndcapHitsRecoXY.local.local_y', 'HcalHadronEndcapHitsRecoXY/HcalHadronEndcapHitsRecoXY.local.local_z', 'HcalHadronEndcapHitsRecoXY/HcalHadronEndcapHitsRecoXY.dimension.dim_x', 'HcalHadronEndcapHitsRecoXY/HcalHadronEndcapHitsRecoXY.dimension.dim_y', 'HcalHadronEndcapHitsRecoXY/HcalHadronEndcapHitsRecoXY.dimension.dim_z', 'HcalHadronEndcapHitsRecoXY/HcalHadronEndcapHitsRecoXY.type', 'HcalHadronEndcapHitsRecoXY#0', 'HcalHadronEndcapHitsRecoXY#0/HcalHadronEndcapHitsRecoXY#0.index', 'HcalHadronEndcapHitsRecoXY#0/HcalHadronEndcapHitsRecoXY#0.collectionID', 'HcalHadronEndcapClusterHits', 'HcalHadronEndcapClusterHits/HcalHadronEndcapClusterHits.cellID', 'HcalHadronEndcapClusterHits/HcalHadronEndcapClusterHits.clusterID', 'HcalHadronEndcapClusterHits/HcalHadronEndcapClusterHits.layerID', 'HcalHadronEndcapClusterHits/HcalHadronEndcapClusterHits.sectorID', 'HcalHadronEndcapClusterHits/HcalHadronEndcapClusterHits.energy', 'HcalHadronEndcapClusterHits/HcalHadronEndcapClusterHits.time', 'HcalHadronEndcapClusterHits/HcalHadronEndcapClusterHits.position.x', 'HcalHadronEndcapClusterHits/HcalHadronEndcapClusterHits.position.y', 'HcalHadronEndcapClusterHits/HcalHadronEndcapClusterHits.position.z', 'HcalHadronEndcapClusterHits/HcalHadronEndcapClusterHits.local.local_x', 'HcalHadronEndcapClusterHits/HcalHadronEndcapClusterHits.local.local_y', 'HcalHadronEndcapClusterHits/HcalHadronEndcapClusterHits.local.local_z', 'HcalHadronEndcapClusterHits/HcalHadronEndcapClusterHits.dimension.dim_x', 'HcalHadronEndcapClusterHits/HcalHadronEndcapClusterHits.dimension.dim_y', 'HcalHadronEndcapClusterHits/HcalHadronEndcapClusterHits.dimension.dim_z', 'HcalHadronEndcapClusterHits/HcalHadronEndcapClusterHits.type', 'HcalHadronEndcapClusterHits#0', 'HcalHadronEndcapClusterHits#0/HcalHadronEndcapClusterHits#0.index', 'HcalHadronEndcapClusterHits#0/HcalHadronEndcapClusterHits#0.collectionID', 'HcalHadronEndcapClusters', 'HcalHadronEndcapClusters/HcalHadronEndcapClusters.clusterID', 'HcalHadronEndcapClusters/HcalHadronEndcapClusters.energy', 'HcalHadronEndcapClusters/HcalHadronEndcapClusters.edep', 'HcalHadronEndcapClusters/HcalHadronEndcapClusters.nhits', 'HcalHadronEndcapClusters/HcalHadronEndcapClusters.position.x', 'HcalHadronEndcapClusters/HcalHadronEndcapClusters.position.y', 'HcalHadronEndcapClusters/HcalHadronEndcapClusters.position.z', 'HcalHadronEndcapClusters/HcalHadronEndcapClusters.positionError.cov_xx', 'HcalHadronEndcapClusters/HcalHadronEndcapClusters.positionError.cov_yy', 'HcalHadronEndcapClusters/HcalHadronEndcapClusters.positionError.cov_zz', 'HcalHadronEndcapClusters/HcalHadronEndcapClusters.positionError.cov_xy', 'HcalHadronEndcapClusters/HcalHadronEndcapClusters.positionError.cov_xz', 'HcalHadronEndcapClusters/HcalHadronEndcapClusters.positionError.cov_yz', 'HcalHadronEndcapClusters/HcalHadronEndcapClusters.polar.r', 'HcalHadronEndcapClusters/HcalHadronEndcapClusters.polar.theta', 'HcalHadronEndcapClusters/HcalHadronEndcapClusters.polar.phi', 'HcalHadronEndcapClusters/HcalHadronEndcapClusters.cl_theta', 'HcalHadronEndcapClusters/HcalHadronEndcapClusters.cl_phi', 'HcalHadronEndcapClusters/HcalHadronEndcapClusters.clusters_begin', 'HcalHadronEndcapClusters/HcalHadronEndcapClusters.clusters_end', 'HcalHadronEndcapClusters/HcalHadronEndcapClusters.hits_begin', 'HcalHadronEndcapClusters/HcalHadronEndcapClusters.hits_end', 'HcalHadronEndcapClusters#0', 'HcalHadronEndcapClusters#0/HcalHadronEndcapClusters#0.index', 'HcalHadronEndcapClusters#0/HcalHadronEndcapClusters#0.collectionID', 'HcalHadronEndcapClusters#1', 'HcalHadronEndcapClusters#1/HcalHadronEndcapClusters#1.index', 'HcalHadronEndcapClusters#1/HcalHadronEndcapClusters#1.collectionID']\n"
     ]
    }
   ],
   "source": [
    "print(pi0_events.keys())"
   ]
  },
  {
   "cell_type": "code",
   "execution_count": 4,
   "metadata": {},
   "outputs": [],
   "source": [
    "def get_vector(events,varname='HcalEndcapHits',energy='energy'):\n",
    "    E = events[\"%s.%s\"%(varname,energy)].array(library='np')\n",
    "    x = events[\"%s.position.x\"%varname].array(library='np')\n",
    "    y = events[\"%s.position.y\"%varname].array(library='np')\n",
    "    z = events[\"%s.position.z\"%varname].array(library='np')\n",
    "#     theta = events[\"%s.polar.theta\"%varname].array(library='np')\n",
    "#     phi = events[\"%s.polar.phi\"%varname].array(library='np')\n",
    "\n",
    "    return E,x, y, z, theta, phi\n",
    "\n",
    "def get_truth(gen_events):\n",
    "    pdgID = gen_events['mcparticles2.pdgID'].array(library='np')\n",
    "    status = gen_events['mcparticles2.status'].array(library='np')\n",
    "    genStatus = gen_events['mcparticles2.genStatus'].array(library='np')\n",
    "    pex = gen_events['mcparticles2.psx'].array(library='np')\n",
    "    pey = gen_events['mcparticles2.psy'].array(library='np')\n",
    "    pez = gen_events['mcparticles2.psz'].array(library='np')\n",
    "    mass = gen_events['mcparticles2.mass'].array(library='np')\n",
    "\n",
    "    return pdgID,status, genStatus,pex,pey,pez,mass"
   ]
  },
  {
   "cell_type": "code",
   "execution_count": 5,
   "metadata": {},
   "outputs": [],
   "source": [
    "E = {}\n",
    "x = {}\n",
    "y = {}\n",
    "z  = {}\n",
    "theta={}\n",
    "phi = {}"
   ]
  },
  {
   "cell_type": "markdown",
   "metadata": {},
   "source": [
    "## Get data"
   ]
  },
  {
   "cell_type": "markdown",
   "metadata": {},
   "source": [
    "# get hits"
   ]
  },
  {
   "cell_type": "code",
   "execution_count": 6,
   "metadata": {},
   "outputs": [
    {
     "data": {
      "text/plain": [
       "100"
      ]
     },
     "execution_count": 6,
     "metadata": {},
     "output_type": "execute_result"
    }
   ],
   "source": [
    "\n",
    "for i in ['HcalHadronEndcap','EcalEndcapP']:#,'TrackerEndcap','VertexEndcap']:\n",
    "    tag = 'piplus_' + i\n",
    "    E[tag], x[tag], y[tag],z[tag],theta[tag],phi[tag] = get_vector(piplus_events,varname=\"%sHitsReco\"%i)\n",
    "    tag = 'pi0_' + i\n",
    "    E[tag], x[tag], y[tag],z[tag],theta[tag],phi[tag] = get_vector(pi0_events,varname=\"%sHitsReco\"%i)\n",
    "\n",
    "# print(E)\n",
    "len(x['piplus_EcalEndcapP'])"
   ]
  },
  {
   "cell_type": "code",
   "execution_count": 7,
   "metadata": {},
   "outputs": [],
   "source": [
    "# # np.savez?\n",
    "# outfile = TemporaryFile()\n",
    "# x = np.arange(10)\n",
    "# y = np.sin(x)\n",
    "# np.savez(outfile, x, y)\n"
   ]
  },
  {
   "cell_type": "markdown",
   "metadata": {},
   "source": [
    "## get MC"
   ]
  },
  {
   "cell_type": "code",
   "execution_count": 8,
   "metadata": {},
   "outputs": [
    {
     "name": "stdout",
     "output_type": "stream",
     "text": [
      "MC particle ID  211 genStatus  1  px = -1.41, py=-3.99, pz=9.07\n",
      "p = 10.00 , theta =25.00\n",
      "MC particle ID  111 genStatus  1  px = -3.64, py=-2.15, pz=9.07\n",
      "p = 10.01 , theta =25.00\n"
     ]
    }
   ],
   "source": [
    "def get_GeneratedValues(events):\n",
    "    mc = {} \n",
    "    mc['pdgID'], mc['status'], mc['genStatus'], mc['pex'],mc['pey'], mc['pez'], mc['mass']= get_truth(events)\n",
    "    for i in range(len(mc['pdgID'][0])):\n",
    "        if(mc['genStatus'][0][i] !=1): continue\n",
    "        px = mc['pex'][0][i]\n",
    "        py =  mc['pey'][0][i]\n",
    "        pz = mc['pez'][0][i]\n",
    "        pt =  np.sqrt(px*px + py*py)\n",
    "        p = np.sqrt(px*px+py*py+pz*pz)\n",
    "        theta = np.arccos(pz/p)*180/np.pi\n",
    "        ievt = 0\n",
    "        print('MC particle ID ', mc['pdgID'][ievt][i],  'genStatus ', mc['genStatus'][ievt][i],\n",
    "               ' px = %2.2f, py=%2.2f, pz=%2.2f'%(mc['pex'][ievt][i],mc['pey'][ievt][i],mc['pez'][ievt][i]))\n",
    "        print('p = %2.2f , theta =%2.2f'%(p, theta))\n",
    "    return p, theta\n",
    "\n",
    "truth = {}\n",
    "truth['piplus_p'], truth['piplus_theta'] = get_GeneratedValues(piplus_events)\n",
    "truth['pi0_p'], truth['pi0_theta'] = get_GeneratedValues(pi0_events)\n",
    "\n"
   ]
  },
  {
   "cell_type": "markdown",
   "metadata": {},
   "source": [
    "## Get clusters"
   ]
  },
  {
   "cell_type": "code",
   "execution_count": 9,
   "metadata": {},
   "outputs": [],
   "source": [
    "#for i in ['HcalBarrelClusters','HcalHadronEndcapClusters','EcalBarrelClusters','EcalEndcapClusters']:\n",
    "#    E[i], x[i], y[i],z[i] = get_vector(\"%s\"%i,energy='energy')"
   ]
  },
  {
   "cell_type": "code",
   "execution_count": 10,
   "metadata": {},
   "outputs": [],
   "source": [
    "import matplotlib.pyplot as plt\n",
    "import numpy as np\n",
    "from matplotlib.colors import LogNorm"
   ]
  },
  {
   "cell_type": "code",
   "execution_count": 11,
   "metadata": {},
   "outputs": [
    {
     "name": "stdout",
     "output_type": "stream",
     "text": [
      "dict_keys(['piplus_HcalHadronEndcap', 'pi0_HcalHadronEndcap', 'piplus_EcalEndcapP', 'pi0_EcalEndcapP'])\n"
     ]
    }
   ],
   "source": [
    "print(x.keys())"
   ]
  },
  {
   "cell_type": "markdown",
   "metadata": {},
   "source": [
    "## Plot 2D transverse view for hits in endcap"
   ]
  },
  {
   "cell_type": "code",
   "execution_count": 46,
   "metadata": {
    "scrolled": false
   },
   "outputs": [
    {
     "name": "stderr",
     "output_type": "stream",
     "text": [
      "/tmp/ipykernel_23428/777681975.py:20: FutureWarning: Using a non-tuple sequence for multidimensional indexing is deprecated; use `arr[tuple(seq)]` instead of `arr[seq]`. In the future this will be interpreted as an array index, `arr[np.array(seq)]`, which will result either in an error or a different result.\n",
      "  cell_x = x[key][ievt][mask_0]\n",
      "/tmp/ipykernel_23428/777681975.py:21: FutureWarning: Using a non-tuple sequence for multidimensional indexing is deprecated; use `arr[tuple(seq)]` instead of `arr[seq]`. In the future this will be interpreted as an array index, `arr[np.array(seq)]`, which will result either in an error or a different result.\n",
      "  cell_y = y[key][ievt][mask_0]\n",
      "/tmp/ipykernel_23428/777681975.py:22: FutureWarning: Using a non-tuple sequence for multidimensional indexing is deprecated; use `arr[tuple(seq)]` instead of `arr[seq]`. In the future this will be interpreted as an array index, `arr[np.array(seq)]`, which will result either in an error or a different result.\n",
      "  cell_E = E[key][ievt][mask_0]*1000.0 #(MeV)\n"
     ]
    },
    {
     "name": "stdout",
     "output_type": "stream",
     "text": [
      "[[0. 0. 0. ... 0. 0. 0.]\n",
      " [0. 0. 0. ... 0. 0. 0.]\n",
      " [0. 0. 0. ... 0. 0. 0.]\n",
      " ...\n",
      " [0. 0. 0. ... 0. 0. 0.]\n",
      " [0. 0. 0. ... 0. 0. 0.]\n",
      " [0. 0. 0. ... 0. 0. 0.]]\n"
     ]
    },
    {
     "data": {
      "image/png": "[encoded data removed]",
      "text/plain": [
       "<Figure size 432x288 with 2 Axes>"
      ]
     },
     "metadata": {
      "needs_background": "light"
     },
     "output_type": "display_data"
    },
    {
     "name": "stderr",
     "output_type": "stream",
     "text": [
      "/tmp/ipykernel_23428/777681975.py:65: FutureWarning: Using a non-tuple sequence for multidimensional indexing is deprecated; use `arr[tuple(seq)]` instead of `arr[seq]`. In the future this will be interpreted as an array index, `arr[np.array(seq)]`, which will result either in an error or a different result.\n",
      "  cell_x = x[key][ievt][mask_0]\n",
      "/tmp/ipykernel_23428/777681975.py:66: FutureWarning: Using a non-tuple sequence for multidimensional indexing is deprecated; use `arr[tuple(seq)]` instead of `arr[seq]`. In the future this will be interpreted as an array index, `arr[np.array(seq)]`, which will result either in an error or a different result.\n",
      "  cell_y = y[key][ievt][mask_0]\n",
      "/tmp/ipykernel_23428/777681975.py:67: FutureWarning: Using a non-tuple sequence for multidimensional indexing is deprecated; use `arr[tuple(seq)]` instead of `arr[seq]`. In the future this will be interpreted as an array index, `arr[np.array(seq)]`, which will result either in an error or a different result.\n",
      "  cell_E = E[key][ievt][mask_0] *1000.0 # MEV\n",
      "No handles with labels found to put in legend.\n"
     ]
    },
    {
     "name": "stdout",
     "output_type": "stream",
     "text": [
      "suma_ECal:  ()\n",
      "piplus  Suma ECAL =0.21\n"
     ]
    },
    {
     "name": "stderr",
     "output_type": "stream",
     "text": [
      "No handles with labels found to put in legend.\n",
      "No handles with labels found to put in legend.\n"
     ]
    },
    {
     "name": "stdout",
     "output_type": "stream",
     "text": [
      "[[0. 0. 0. ... 0. 0. 0.]\n",
      " [0. 0. 0. ... 0. 0. 0.]\n",
      " [0. 0. 0. ... 0. 0. 0.]\n",
      " ...\n",
      " [0. 0. 0. ... 0. 0. 0.]\n",
      " [0. 0. 0. ... 0. 0. 0.]\n",
      " [0. 0. 0. ... 0. 0. 0.]]\n"
     ]
    },
    {
     "data": {
      "image/png": "[encoded data removed]",
      "text/plain": [
       "<Figure size 1440x288 with 5 Axes>"
      ]
     },
     "metadata": {
      "needs_background": "light"
     },
     "output_type": "display_data"
    },
    {
     "data": {
      "image/png": "[encoded data removed]",
      "text/plain": [
       "<Figure size 432x288 with 2 Axes>"
      ]
     },
     "metadata": {
      "needs_background": "light"
     },
     "output_type": "display_data"
    },
    {
     "name": "stderr",
     "output_type": "stream",
     "text": [
      "No handles with labels found to put in legend.\n"
     ]
    },
    {
     "name": "stdout",
     "output_type": "stream",
     "text": [
      "suma_ECal:  ()\n",
      "pi0  Suma ECAL =2.76\n"
     ]
    },
    {
     "name": "stderr",
     "output_type": "stream",
     "text": [
      "No handles with labels found to put in legend.\n",
      "No handles with labels found to put in legend.\n"
     ]
    },
    {
     "name": "stdout",
     "output_type": "stream",
     "text": [
      "[[0. 0. 0. ... 0. 0. 0.]\n",
      " [0. 0. 0. ... 0. 0. 0.]\n",
      " [0. 0. 0. ... 0. 0. 0.]\n",
      " ...\n",
      " [0. 0. 0. ... 0. 0. 0.]\n",
      " [0. 0. 0. ... 0. 0. 0.]\n",
      " [0. 0. 0. ... 0. 0. 0.]]\n"
     ]
    },
    {
     "data": {
      "image/png": "[encoded data removed]",
      "text/plain": [
       "<Figure size 1440x288 with 5 Axes>"
      ]
     },
     "metadata": {
      "needs_background": "light"
     },
     "output_type": "display_data"
    },
    {
     "data": {
      "image/png": "[encoded data removed]",
      "text/plain": [
       "<Figure size 432x288 with 2 Axes>"
      ]
     },
     "metadata": {
      "needs_background": "light"
     },
     "output_type": "display_data"
    },
    {
     "name": "stderr",
     "output_type": "stream",
     "text": [
      "No handles with labels found to put in legend.\n"
     ]
    },
    {
     "name": "stdout",
     "output_type": "stream",
     "text": [
      "suma_ECal:  ()\n",
      "piplus  Suma ECAL =1.11\n"
     ]
    },
    {
     "name": "stderr",
     "output_type": "stream",
     "text": [
      "No handles with labels found to put in legend.\n",
      "No handles with labels found to put in legend.\n"
     ]
    },
    {
     "name": "stdout",
     "output_type": "stream",
     "text": [
      "[[0. 0. 0. ... 0. 0. 0.]\n",
      " [0. 0. 0. ... 0. 0. 0.]\n",
      " [0. 0. 0. ... 0. 0. 0.]\n",
      " ...\n",
      " [0. 0. 0. ... 0. 0. 0.]\n",
      " [0. 0. 0. ... 0. 0. 0.]\n",
      " [0. 0. 0. ... 0. 0. 0.]]\n"
     ]
    },
    {
     "data": {
      "image/png": "[encoded data removed]",
      "text/plain": [
       "<Figure size 1440x288 with 5 Axes>"
      ]
     },
     "metadata": {
      "needs_background": "light"
     },
     "output_type": "display_data"
    },
    {
     "data": {
      "image/png": "[encoded data removed]",
      "text/plain": [
       "<Figure size 432x288 with 2 Axes>"
      ]
     },
     "metadata": {
      "needs_background": "light"
     },
     "output_type": "display_data"
    },
    {
     "name": "stderr",
     "output_type": "stream",
     "text": [
      "No handles with labels found to put in legend.\n"
     ]
    },
    {
     "name": "stdout",
     "output_type": "stream",
     "text": [
      "suma_ECal:  ()\n",
      "pi0  Suma ECAL =2.71\n"
     ]
    },
    {
     "name": "stderr",
     "output_type": "stream",
     "text": [
      "No handles with labels found to put in legend.\n",
      "No handles with labels found to put in legend.\n"
     ]
    },
    {
     "data": {
      "image/png": "[encoded data removed]",
      "text/plain": [
       "<Figure size 1440x288 with 5 Axes>"
      ]
     },
     "metadata": {
      "needs_background": "light"
     },
     "output_type": "display_data"
    }
   ],
   "source": [
    "#loop over events\n",
    "base=[]\n",
    "image_piplus = []\n",
    "image_pi0 = []\n",
    "# ecal = np.array\n",
    "for ievt in range(2):\n",
    "    for part_type in ['piplus','pi0']:\n",
    "        #print(ievt)\n",
    "        base.append(ievt)\n",
    "#         base.append(',')\n",
    "\n",
    "# put save inside the for loop\n",
    "        key = '%s_EcalEndcapP'%(part_type)\n",
    "        \n",
    "        \n",
    "#        mask = [(E[key][ievt]>0.005) & (E[key][ievt]/np.sum(E[key][ievt])>0.001)]\n",
    "        mask_0 = [(E[key][ievt]>0.001)]\n",
    "        \n",
    "        size = len(E[key][ievt])\n",
    "        cell_x = x[key][ievt][mask_0]\n",
    "        cell_y = y[key][ievt][mask_0]\n",
    "        cell_E = E[key][ievt][mask_0]*1000.0 #(MeV)\n",
    "        \n",
    "#         print(np.array(cell_E))\n",
    "        cell_x = np.array(cell_x)\n",
    "        cell_y = np.array(cell_y)\n",
    "        cell_E = np.array(cell_E)\n",
    "        \n",
    "        base.append(cell_E)\n",
    "        # array 200, 200, 0\n",
    "        array = np.zeros((200,200), dtype=float, order='C')\n",
    "\n",
    "        for ihit, iE in enumerate(cell_E):\n",
    "            ix = math.floor((cell_x[ihit]+2000.)/20.)\n",
    "            iy = math.floor((cell_y[ihit]+2000.)/20.)\n",
    "            array[ix,iy] = iE\n",
    "                        \n",
    "        array = np.rot90(array)\n",
    "        \n",
    "        print(array)\n",
    "        fig = plt.figure()\n",
    "        plt.imshow(array)\n",
    "        plt.colorbar()\n",
    "        plt.grid(False)\n",
    "        plt.show()\n",
    "#         image_pi0.append(array)\n",
    "        fig,ax  = plt.subplots(1,4,figsize=(20,4),sharex=True, sharey=True)\n",
    "\n",
    "#         c = ax[0].hist2d(cell_x,cell_y, weights=cell_E,label=part_type + ' evt #%i'%(ievt), \n",
    "#                      bins=[200,200],range=([[-2000, 2000], [-2000,2000]]))\n",
    "        c = ax[0].hist2d(cell_x,cell_y, weights=cell_E,label=part_type + ' evt #%i'%(ievt), \n",
    "                     bins=[200,200],range=([[-2000, 2000], [-2000,2000]]),norm=LogNorm())\n",
    "        fig.colorbar(c[3], ax=ax[0])  \n",
    "        plt.savefig(key)\n",
    "        \n",
    "        suma_ECAL = np.sum(E[key][ievt])\n",
    "        \n",
    "        print(\"suma_ECal: \", suma_ECAL.shape)\n",
    "        print(part_type , ' Suma ECAL =%2.2f'%suma_ECAL)\n",
    "        #### HCAL \n",
    "        key = '%s_HcalHadronEndcap'%(part_type)\n",
    "        for iz, zbins in enumerate([(3000,3200),(3200,3400),(3400,3600)]):\n",
    "            mask_0 = [(z[key][ievt]>zbins[0]) & (z[key][ievt]<zbins[1]) & (E[key][ievt]>0.001)]\n",
    "            if(np.sum(mask_0)<1): continue\n",
    "            cell_x = x[key][ievt][mask_0]\n",
    "            cell_y = y[key][ievt][mask_0]\n",
    "            cell_E = E[key][ievt][mask_0] *1000.0 # MEV\n",
    "             \n",
    "            c = ax[iz+1].hist2d(cell_x,cell_y, weights=cell_E,label=part_type + ' evt #%i'%(ievt), \n",
    "                    bins=[40,40],range=([[-2000, 2000], [-2000,2000]]),norm=LogNorm())\n",
    "#             fig.colorbar(c[3], ax=ax[iz+1]) \n",
    "#             print(c[3])\n",
    "#             print(ax)\n",
    "\n",
    "        ax[0].set_title('ECAL \\n %s event'%(part_type))\n",
    "        for iz in range(3):\n",
    "            ax[iz+1].set_title('HCAL %i \\n %s event, %2.0f GeV'%(iz,part_type,truth[part_type+'_p']))\n",
    "            ax[0].legend()\n",
    "            sevt = str(ievt)\n",
    "            siz = str(iz)\n",
    "            name = part_type + sevt + siz + \".png\"\n",
    "            plt.savefig(name)\n",
    "\n",
    "            \n",
    "\n",
    "#         ax[0].legend()\n",
    "#         sevt = str(ievt)\n",
    "#         name = part_type + sevt + \".png\"\n",
    "#         plt.savefig(name)\n",
    "#         base.append('\\n')\n",
    "        \n",
    "# np.savetxt('data.csv', base,  fmt='%d',delimiter=',')\n",
    "# np.savez('data.npz', base, fmt=\"%d+%d\",delimiter=',')\n",
    "np.atleast_1d(x)\n",
    "np.savez('data.npz', x=x, y=y, z=z, E=E)\n",
    "\n",
    "        #for a in ax:\n",
    "        #    a.set_xticklabels([])\n",
    "        #    a.set_yticklabels([])\n",
    "        #plt.subplots_adjust(wspace=0, hspace=0.5)\n",
    "# x.shape"
   ]
  },
  {
   "cell_type": "code",
   "execution_count": null,
   "metadata": {},
   "outputs": [],
   "source": [
    "#sf_ECAL = 0.253\n",
    "#sf_HCAL = 0.025\n",
    "    #print('Energy = %2.3f'%(suma_ECAL/sf_ECAL+suma_HCAL/sf_HCAL))\n",
    "    ##suma_HCAL = np.sum(E[key][ievt])\n",
    "    #print(suma_HCAL/sf_HCAL)\n",
    "# save np.load\n",
    "np_load_old = np.load\n",
    "\n",
    "# modify the default parameters of np.load\n",
    "np.load = lambda *a,**k: np_load_old(*a, allow_pickle=True, **k)\n",
    "# https://stackoverflow.com/questions/55890813/how-to-fix-object-arrays-cannot-be-loaded-when-allow-pickle-false-for-imdb-loa\n",
    "\n",
    "data = np.load('data.npz')\n",
    "\n",
    "# restore np.load for future normal usage\n",
    "np.load = np_load_old"
   ]
  },
  {
   "cell_type": "code",
   "execution_count": null,
   "metadata": {},
   "outputs": [],
   "source": [
    "data.files"
   ]
  },
  {
   "cell_type": "code",
   "execution_count": null,
   "metadata": {},
   "outputs": [],
   "source": [
    "data"
   ]
  },
  {
   "cell_type": "code",
   "execution_count": null,
   "metadata": {},
   "outputs": [],
   "source": [
    "x_array = data['x']\n",
    "y_array = data['y']\n",
    "z_array = data['z']\n",
    "E_array = data['E']\n",
    "\n",
    "# arr_1 = b['array1']"
   ]
  },
  {
   "cell_type": "code",
   "execution_count": null,
   "metadata": {},
   "outputs": [],
   "source": [
    "# type(arr_1)\n",
    "x_piplusEcal = x_array.tolist()['piplus_EcalEndcapP']\n",
    "y_piplusEcal = y_array.tolist()['piplus_EcalEndcapP']\n",
    "z_piplusEcal = z_array.tolist()['piplus_EcalEndcapP']\n",
    "E_piplusEcal = E_array.tolist()['piplus_EcalEndcapP']\n",
    "\n",
    "x_piplusHcal = x_array.tolist()['piplus_HcalHadronEndcap']\n",
    "y_piplusHcal = y_array.tolist()['piplus_HcalHadronEndcap']\n",
    "z_piplusHcal = z_array.tolist()['piplus_HcalHadronEndcap']\n",
    "E_piplusHcal = E_array.tolist()['piplus_HcalHadronEndcap']\n",
    "\n",
    "x_pi0Ecal = x_array.tolist()['pi0_EcalEndcapP']\n",
    "y_pi0Ecal = y_array.tolist()['pi0_EcalEndcapP']\n",
    "z_pi0Ecal = z_array.tolist()['pi0_EcalEndcapP']\n",
    "E_pi0Ecal = E_array.tolist()['pi0_EcalEndcapP']\n",
    "\n",
    "x_pi0Hcal = x_array.tolist()['pi0_HcalHadronEndcap']\n",
    "y_pi0Hcal = y_array.tolist()['pi0_HcalHadronEndcap']\n",
    "z_pi0Hcal = z_array.tolist()['pi0_HcalHadronEndcap']\n",
    "E_pi0Hcal = E_array.tolist()['pi0_HcalHadronEndcap']"
   ]
  },
  {
   "cell_type": "code",
   "execution_count": null,
   "metadata": {},
   "outputs": [],
   "source": [
    "x_piplusHcal[0].shape"
   ]
  },
  {
   "cell_type": "code",
   "execution_count": null,
   "metadata": {},
   "outputs": [],
   "source": [
    "x_piplusHcal[0]"
   ]
  },
  {
   "cell_type": "code",
   "execution_count": null,
   "metadata": {},
   "outputs": [],
   "source": [
    "plt.scatter(x_piplusHcal[0],y_piplusHcal[0])"
   ]
  },
  {
   "cell_type": "code",
   "execution_count": null,
   "metadata": {},
   "outputs": [],
   "source": [
    "ii=0 \n",
    "# entry #\n",
    "\n",
    "fig = plt.figure(figsize=(8, 8))\n",
    "ax = fig.add_subplot(projection='3d')\n",
    "ax.scatter(z_piplusEcal[ii], x_piplusEcal[ii], y_piplusEcal[ii])\n",
    "ax.scatter(z_piplusHcal[ii], x_piplusHcal[ii], y_piplusHcal[ii] )\n",
    "\n",
    "plt.show()"
   ]
  },
  {
   "cell_type": "code",
   "execution_count": null,
   "metadata": {},
   "outputs": [],
   "source": [
    "fig1 = plt.figure(figsize=(8, 8))\n",
    "ax1 = fig1.add_subplot(projection='3d')\n",
    "\n",
    "ax1.scatter(z_pi0Ecal[ii], x_pi0Ecal[ii], y_pi0Ecal[ii])\n",
    "ax1.scatter(z_pi0Hcal[ii], x_pi0Hcal[ii], y_pi0Hcal[ii])\n",
    "plt.show()"
   ]
  },
  {
   "cell_type": "markdown",
   "metadata": {},
   "source": [
    "1. how are the 4 or less images represented in the data?\n",
    "- Ecal 1 image (z < 3000)\n",
    "- Hcal 3 images depending on z: (3000,3200), (3200,3400), (3400,3600)\n",
    "\n",
    "2. What should be the input and output format for the model?\n",
    "- Input: 1 image(heat map) from Ecal, 3 images(heat map) from Hcal\n",
    "- Output: (theta, phi, Energy in Ecal, Energy in Hcal, total Energy)\n",
    "\n",
    "3. i think the data is for just one particle right?\n",
    "- It has pi0 and pion_plus\n",
    "\n",
    "4. I need to figure out how the data is structured so that i can setup the model\n",
    "- multiple entries\n",
    "- each entry has one pion and one piplus tracks\n",
    "- one track related 1 images of Ecal and 3 images of Hcal"
   ]
  },
  {
   "cell_type": "code",
   "execution_count": null,
   "metadata": {},
   "outputs": [],
   "source": []
  }
 ],
 "metadata": {
  "kernelspec": {
   "display_name": "Python 3 (ipykernel)",
   "language": "python",
   "name": "python3"
  },
  "language_info": {
   "codemirror_mode": {
    "name": "ipython",
    "version": 3
   },
   "file_extension": ".py",
   "mimetype": "text/x-python",
   "name": "python",
   "nbconvert_exporter": "python",
   "pygments_lexer": "ipython3",
   "version": "3.8.11"
  }
 },
 "nbformat": 4,
 "nbformat_minor": 4
}
